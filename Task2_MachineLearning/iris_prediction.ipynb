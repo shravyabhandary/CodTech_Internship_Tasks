{
 "cells": [
  {
   "cell_type": "markdown",
   "id": "488ddf2c",
   "metadata": {},
   "source": [
    "# Task 2: Predictive Analysis using Machine Learning\n",
    "**Dataset:** Iris Flower Dataset\n",
    "\n",
    "**Goal:** Predict flower species using sepal and petal dimensions.\n"
   ]
  },
  {
   "cell_type": "code",
   "execution_count": null,
   "id": "7ee478ce",
   "metadata": {},
   "outputs": [],
   "source": [
    "# Step 1: Import necessary libraries\n",
    "import pandas as pd\n",
    "import numpy as np\n",
    "import seaborn as sns\n",
    "import matplotlib.pyplot as plt\n",
    "from sklearn.datasets import load_iris\n",
    "from sklearn.model_selection import train_test_split\n",
    "from sklearn.linear_model import LogisticRegression\n",
    "from sklearn.metrics import classification_report, confusion_matrix, accuracy_score"
   ]
  },
  {
   "cell_type": "code",
   "execution_count": null,
   "id": "0b8592a9",
   "metadata": {},
   "outputs": [],
   "source": [
    "# Step 2: Load the dataset\n",
    "iris = load_iris()\n",
    "df = pd.DataFrame(data=iris.data, columns=iris.feature_names)\n",
    "df['target'] = iris.target\n",
    "df['target_name'] = df['target'].map(dict(enumerate(iris.target_names)))\n",
    "df.head()"
   ]
  },
  {
   "cell_type": "code",
   "execution_count": null,
   "id": "5dc1f5a1",
   "metadata": {},
   "outputs": [],
   "source": [
    "# Step 3: Data visualization\n",
    "sns.pairplot(df, hue='target_name')\n",
    "plt.show()"
   ]
  },
  {
   "cell_type": "code",
   "execution_count": null,
   "id": "4cb57e78",
   "metadata": {},
   "outputs": [],
   "source": [
    "# Step 4: Feature selection and data split\n",
    "X = df[iris.feature_names]\n",
    "y = df['target']\n",
    "X_train, X_test, y_train, y_test = train_test_split(X, y, test_size=0.3, random_state=42)"
   ]
  },
  {
   "cell_type": "code",
   "execution_count": null,
   "id": "2698b7ec",
   "metadata": {},
   "outputs": [],
   "source": [
    "# Step 5: Train a logistic regression model\n",
    "model = LogisticRegression(max_iter=200)\n",
    "model.fit(X_train, y_train)"
   ]
  },
  {
   "cell_type": "code",
   "execution_count": null,
   "id": "a22b9eb8",
   "metadata": {},
   "outputs": [],
   "source": [
    "# Step 6: Model evaluation\n",
    "y_pred = model.predict(X_test)\n",
    "print('Accuracy:', accuracy_score(y_test, y_pred))\n",
    "print('\\nClassification Report:\\n', classification_report(y_test, y_pred))\n",
    "print('\\nConfusion Matrix:\\n', confusion_matrix(y_test, y_pred))"
   ]
  },
  {
   "cell_type": "markdown",
   "id": "523faec3",
   "metadata": {},
   "source": [
    "### ✅ Conclusion:\n",
    "- Logistic Regression achieved high accuracy on the Iris dataset.\n",
    "- Features like petal length and width are strong predictors of flower type.\n",
    "- Model is simple, interpretable, and fast.\n"
   ]
  }
 ],
 "metadata": {},
 "nbformat": 4,
 "nbformat_minor": 5
}
